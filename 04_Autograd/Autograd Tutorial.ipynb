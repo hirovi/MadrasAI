{
 "cells": [
  {
   "cell_type": "markdown",
   "metadata": {},
   "source": [
    "# Autograd Tutorial\n",
    "\n"
   ]
  },
  {
   "cell_type": "markdown",
   "metadata": {},
   "source": [
    "## Approaches for Computing Derivatives"
   ]
  },
  {
   "cell_type": "markdown",
   "metadata": {},
   "source": [
    "* **Symbolic differentiation:** automatic manipulation of mathematical expressions to get derivatives\n",
    "    - Takes a math expression and returns a math expression: $f(x) = x^2 \\rightarrow \\frac{df(x)}{dx} = 2x$\n",
    "    - Used in Mathematica, Maple, Sympy, etc.\n",
    "* **Numeric differentiation:** Approximating derivatives by finite differences:\n",
    "$$\n",
    "\\frac{\\partial}{\\partial x_i} f(x_1, \\dots, x_N) = \\lim_{h \\to 0} \\frac{f(x_1, \\dots, x_i + h, \\dots, x_N) - f(x_1, \\dots, x_i - h, \\dots, x_N)}{2h}\n",
    "$$\n",
    "* **Automatic differentiation:** Takes code that computes a function and returns code that computes the derivative of that function.\n",
    "    - Reverse Mode AD: A method to get exact derivatives efficiently, by storing information as you go forward that you can reuse as you go backwards\n",
    "    - \"The goal isn't to obtain closed-form solutions, but to be able to wirte a program that efficiently computes the derivatives.\" - Lecture 6 Slides (Backpropagation)\n",
    "    - **Autograd**, **Torch Autograd**"
   ]
  },
  {
   "cell_type": "markdown",
   "metadata": {},
   "source": [
    "## Autograd\n",
    "\n",
    "* [Autograd](https://github.com/HIPS/autograd) is a Python package for automatic differentiation.\n",
    "* To install Autograd:\n",
    "                pip install autograd\n",
    "* There are a lot of great [examples](https://github.com/HIPS/autograd/tree/master/examples) provided with the source code\n",
    "\n",
    "### What can Autograd do?\n",
    "\n",
    "From the Autograd Github repository:\n",
    "\n",
    "* Autograd can automatically differentiate native Python and Numpy code.\n",
    "* It can handle a large subset of Python's features, including loops, conditional statements (if/else), recursion and closures\n",
    "* It can also compute higher-order derivatives\n",
    "* It uses reverse-mode differentiation (a.k.a. backpropagation) so it can efficiently take gradients of scalar-valued functions with respect to array-valued arguments.\n",
    "\n",
    "\n",
    "## Autograd vs Tensorflow, Theano, etc.\n",
    "\n",
    "Many deep learning packages implement automatic differentiation using small _domain-specific languages_ within Python:\n",
    "    - Theano\n",
    "    - Caffe\n",
    "    - Vanilla Torch (as compared to Autograd for Torch)\n",
    "    - Tensorflow\n",
    "Most of these alternatives require you to _explicitly_ construct a computation graph; Autograd constructs a computation graph _implicitly_, by tracking the sequence of operations that have been performed during the execution of a program.\n",
    "\n",
    "## GPU Support for Autograd?\n",
    "\n",
    "There are a couple projects to look into if you are interested in GPU support for Autograd:\n",
    "\n",
    "* [MinPy](https://github.com/dmlc/minpy)\n",
    "* [PyTorch](http://pytorch.org/)\n",
    "\n",
    "## Autograd Basic Usage"
   ]
  },
  {
   "cell_type": "code",
   "execution_count": 1,
   "metadata": {},
   "outputs": [],
   "source": [
    "# Import thinly-wrapped numpy\n",
    "import autograd.numpy as np\n",
    "# Basicallly the only function you need\n",
    "from autograd import grad"
   ]
  },
  {
   "cell_type": "code",
   "execution_count": 2,
   "metadata": {},
   "outputs": [
    {
     "name": "stdout",
     "output_type": "stream",
     "text": [
      "0.393223866483\n",
      "0.393223866365\n"
     ]
    }
   ],
   "source": [
    "# Define a normal function, using python & numpy\n",
    "def tanh(x):\n",
    "    y = np.exp(-x)\n",
    "    return (1.-y)/(1.+y)\n",
    "\n",
    "grad_tanh = grad(tanh)\n",
    "\n",
    "# Evaluate the gradient at x=10\n",
    "print(grad_tanh(1.0))\n",
    "\n",
    "# Compare to numeric gradient computed using finite differences\n",
    "print((tanh(1.0001) - tanh(0.9999)) / 0.0002)"
   ]
  },
  {
   "cell_type": "markdown",
   "metadata": {},
   "source": [
    "## Autograd vs Manual Gradients via Staged Computation\n",
    "\n",
    "In this example, we will see how a complicated computation can be written as a composition of simpler functions, and how this provides a scalable strategy for computing gradients using the chain rule.\n",
    "\n",
    "Say we want to write a function to compute the gradient of the *sigmoid function*:\n",
    "$$\n",
    "\\sigma(x) = \\frac{1}{1 + e^{-x}}\n",
    "$$\n",
    "We can write $\\sigma(x)$ as a composition of several elementary functions, as $\\sigma(x) = s(c(b(a(x))))$, where:\n",
    "\n",
    "$$\n",
    "a(x) = -x\n",
    "$$\n",
    "\n",
    "$$\n",
    "b(a) = e^a\n",
    "$$\n",
    "\n",
    "$$\n",
    "c(b) = 1 + b\n",
    "$$\n",
    "\n",
    "$$\n",
    "s(c) = \\frac{1}{c}\n",
    "$$\n",
    "\n",
    "Here, we have \"staged\" the computation such that it contains several intermediate variables, each of which are basic expressions for which we can easily compute the local gradients.\n",
    "\n",
    "The computation graph for this expression is shown in the figure below. \n",
    "\n",
    "![Gradient Computation Image](images/ComputationGraph.png)\n",
    "\n",
    "The input to this function is $x$, and the output is represented by node $s$. We wish compute the gradient of $s$ with respect to $x$, $\\frac{\\partial s}{\\partial x}$. In order to make use of our intermediate computations, we can use the chain rule as follows:\n",
    "$$\n",
    "\\frac{\\partial s}{\\partial x} = \\frac{\\partial s}{\\partial c} \\frac{\\partial c}{\\partial b} \\frac{\\partial b}{\\partial a} \\frac{\\partial a}{\\partial x}\n",
    "$$\n",
    "\n",
    "<!--\n",
    "Given a vector-to-scalar function, $\\mathbb{R}^D \\to \\mathbb{R}$, composed of a set of primitive functions\n",
    "$\\mathbb{R}^M \\to \\mathbb{R}^N$ (for various $M$, $N$), the gradient of the composition is given by the product of the gradients of the primitive functions, according to the chain rule. But the chain rule doesn’t prescribe the order in which to multiply the gradients. From the perspective of computational complexity, the order makes all the\n",
    "difference.\n",
    "-->"
   ]
  },
  {
   "cell_type": "code",
   "execution_count": 3,
   "metadata": {},
   "outputs": [
    {
     "name": "stdout",
     "output_type": "stream",
     "text": [
      "Manual calculation of gradient:    0.104993585404\n",
      "Automatic calculation of gradient: 0.104993585404\n"
     ]
    }
   ],
   "source": [
    "def sigmoid(x):\n",
    "    y = 1.0 / (1.0 + np.exp(-x))\n",
    "    return y\n",
    "\n",
    "def grad_sigmoid_manual(x):\n",
    "    '''\n",
    "    Define the gradient of the logistic sigmoid function\n",
    "    '''\n",
    "    # First define the elementary functions of the sigmoid function as seen above.\n",
    "    a = -x         \n",
    "    b = np.exp(a)  \n",
    "    c = 1 + b      \n",
    "    s = 1.0 / c \n",
    "    \n",
    "    # Backward pass\n",
    "    dsdc = (-1.0 / (c**2))\n",
    "    dsdb = dsdc * 1\n",
    "    dsda = dsdb * np.exp(a)\n",
    "    dsdx = dsda * (-1)\n",
    "    \n",
    "    return dsdx\n",
    "\n",
    "## Manually without Autograd\n",
    "print('Manual calculation of gradient:   ',grad_sigmoid_manual(2.0))\n",
    "\n",
    "## Automatically with Autograd\n",
    "grad_sigmoid_automatic = grad(sigmoid)\n",
    "print('Automatic calculation of gradient:',grad_sigmoid_automatic(2.0))"
   ]
  },
  {
   "cell_type": "markdown",
   "metadata": {},
   "source": [
    "I know what you're thinking... Autograd is amazing!!!"
   ]
  },
  {
   "cell_type": "markdown",
   "metadata": {},
   "source": [
    "## Gradients of Data Structures: flatten and unflatten\n",
    "                                                                     \n",
    "Autograd allows you to compute gradients for many different data structures. **Autograd provides a lot of flexibility in the types of data structures you can use to store the parameters of your model**. This flexibility is achieved through the flatten function, which converts any nested combination of lists, tuples, arrays, or dicts into a 1-dimensional Numpy array.                                              \n",
    "                                                                                                      \n",
    "The idea is that we know how to compute gradients of vectors, and we can convert many data structures into vectors (i.e. \"flatten\" the data structures)."
   ]
  },
  {
   "cell_type": "code",
   "execution_count": 4,
   "metadata": {},
   "outputs": [],
   "source": [
    "import autograd.numpy as np\n",
    "import autograd.numpy.random as npr\n",
    "from autograd import grad\n",
    "from autograd.misc import flatten"
   ]
  },
  {
   "cell_type": "code",
   "execution_count": 5,
   "metadata": {},
   "outputs": [
    {
     "name": "stdout",
     "output_type": "stream",
     "text": [
      "Flattened: [ 1.  1.  2.  2.  3.  3.  3.]\n",
      "Unflattened: [(array(1.0), array(1.0)), (array(2.0), array(2.0)), (array(3.0), array(3.0), array(3.0))]\n"
     ]
    }
   ],
   "source": [
    "# You can flatten a list of tupples\n",
    "params = [(1.0, 1.0), (2.0,2.0), (3.0,3.0,3.0)]\n",
    "flat_params, unflatten_func = flatten(params)\n",
    "print('Flattened: {}'.format(flat_params))\n",
    "print('Unflattened: {}'.format(unflatten_func(flat_params)))"
   ]
  },
  {
   "cell_type": "code",
   "execution_count": 6,
   "metadata": {},
   "outputs": [
    {
     "name": "stdout",
     "output_type": "stream",
     "text": [
      "Flattened: [ 1.36388519 -0.6903284  -1.21817762 -0.34614268  1.69183588  0.46337841\n",
      "  1.56079942  0.4213131   1.00445921  0.59075571  0.65658889  0.75953019\n",
      "  1.98055892 -0.80289865 -0.37592507 -0.29514152 -1.83997244 -0.13230992\n",
      "  1.40406276  0.8231782  -0.3056028   0.04605789  0.64917805  0.00268559\n",
      " -0.25758045  1.03536356 -1.87333845 -0.03812378]\n",
      "Unflattened: [array([[ 1.36388519, -0.6903284 , -1.21817762],\n",
      "       [-0.34614268,  1.69183588,  0.46337841],\n",
      "       [ 1.56079942,  0.4213131 ,  1.00445921]]), array([[ 0.59075571,  0.65658889],\n",
      "       [ 0.75953019,  1.98055892],\n",
      "       [-0.80289865, -0.37592507],\n",
      "       [-0.29514152, -1.83997244],\n",
      "       [-0.13230992,  1.40406276]]), array([[ 0.8231782 , -0.3056028 ,  0.04605789],\n",
      "       [ 0.64917805,  0.00268559, -0.25758045],\n",
      "       [ 1.03536356, -1.87333845, -0.03812378]])]\n"
     ]
    }
   ],
   "source": [
    "# You can flatten a list of matrices(of different sizes)\n",
    "params = [npr.randn(3,3), npr.randn(5,2), npr.randn(3,3)]\n",
    "flat_params, unflatten_func = flatten(params)\n",
    "print('Flattened: {}'.format(flat_params))\n",
    "print('Unflattened: {}'.format(unflatten_func(flat_params)))"
   ]
  },
  {
   "cell_type": "code",
   "execution_count": 7,
   "metadata": {},
   "outputs": [
    {
     "name": "stdout",
     "output_type": "stream",
     "text": [
      "Flattened: [ 0.2  3.   1.   2.   3.   4. ]\n",
      "Unflattened: {'weights': [array(1.0), array(2.0), array(3.0), array(4.0)], 'biases': [array(0.2), array(3.0)]}\n"
     ]
    }
   ],
   "source": [
    "# A dictionary\n",
    "params = {'weights':[1.,2.,3.,4.], 'biases':[.2,3.]}\n",
    "flat_params, unflatten_func = flatten(params)\n",
    "print('Flattened: {}'.format(flat_params))\n",
    "print('Unflattened: {}'.format(unflatten_func(flat_params)))"
   ]
  },
  {
   "cell_type": "code",
   "execution_count": 8,
   "metadata": {},
   "outputs": [
    {
     "name": "stdout",
     "output_type": "stream",
     "text": [
      "Flattened: [ 1.  2.  1.  2.  3.  4.  6.  7.  5.  6.  7.  8.]\n",
      "Unflattened: {'layer1': {'weights': [array(1.0), array(2.0), array(3.0), array(4.0)], 'biases': [array(1.0), array(2.0)]}, 'layer2': {'weights': [array(5.0), array(6.0), array(7.0), array(8.0)], 'biases': [array(6.0), array(7.0)]}}\n"
     ]
    }
   ],
   "source": [
    "# Or even a dictionary of dictionaries #inception\n",
    "params = { 'layer1': { 'weights': [1.0,2.0,3.0,4.0], 'biases': [1.0,2.0]}, 'layer2': { 'weights': [5.0,6.0,7.0,8.0], 'biases': [6.0,7.0]} }\n",
    "flat_params, unflatten_func = flatten(params)\n",
    "print('Flattened: {}'.format(flat_params))\n",
    "print('Unflattened: {}'.format(unflatten_func(flat_params)))"
   ]
  },
  {
   "cell_type": "markdown",
   "metadata": {},
   "source": [
    "## Examples"
   ]
  },
  {
   "cell_type": "markdown",
   "metadata": {},
   "source": [
    "The next three sections of the notebook show examples of using Autograd in the context of three problems:\n",
    "\n",
    "1. **1-D linear regression**, where we try to fit a model to a function $y = wx + b$\n",
    "2. **Linear regression using a polynomial feature map**, to fit a function of the form $y = w_0 + w_1 x + w_2 x^2 + \\dots + w_M x^M$\n",
    "3. **Nonlinear regression using a neural network**\n"
   ]
  },
  {
   "cell_type": "markdown",
   "metadata": {},
   "source": [
    "## Linear Regression\n",
    "\n",
    "### Review\n",
    "\n",
    "We are given a set of data points $\\{ (x_1, t_1), (x_2, t_2), \\dots, (x_N, t_N) \\}$, where each point $(x_i, t_i)$ consists of an *input value* $x_i$ and a *target value* $t_i$. \n",
    "\n",
    "The **model** we use is:\n",
    "$$\n",
    "y_i = wx_i + b\n",
    "$$\n",
    "\n",
    "We want each predicted value $y_i$ to be close to the ground truth value $t_i$. In linear regression, we use squared error to quantify the disagreement between $y_i$ and $t_i$. The **loss function** for a single example is:\n",
    "$$\n",
    "\\mathcal{L}(y_i,t_i) = \\frac{1}{2} (y_i - t_i)^2\n",
    "$$\n",
    "\n",
    "The **cost function** is the loss averaged over all the training examples:\n",
    "$$\n",
    "\\mathcal{E}(w,b) = \\frac{1}{N} \\sum_{i=1}^N \\mathcal{L}(y_i, t_i) = \\frac{1}{N} \\sum_{i=1}^N \\frac{1}{2} \\left(wx_i + b - t_i \\right)^2\n",
    "$$"
   ]
  },
  {
   "cell_type": "code",
   "execution_count": 9,
   "metadata": {},
   "outputs": [],
   "source": [
    "import autograd.numpy as np # Import wrapped NumPy from Autograd\n",
    "import autograd.numpy.random as npr # For convenient access to numpy.random\n",
    "from autograd import grad # To compute gradients\n",
    "\n",
    "import matplotlib.pyplot as plt # For plotting\n",
    "\n",
    "%matplotlib inline"
   ]
  },
  {
   "cell_type": "markdown",
   "metadata": {},
   "source": [
    "## Generate Synthetic Data\n",
    "\n",
    "We generate a synthetic dataset $\\{ (x_i, t_i) \\}$ by first taking the $x_i$ to be linearly spaced in the range $[0, 10]$ and generating the corresponding value of $t_i$ using the following equation (where $w = 4$ and $b=10$):\n",
    "$$\n",
    "t_i = 4 x_i + 10 + \\epsilon\n",
    "$$\n",
    "\n",
    "Here, $\\epsilon \\sim \\mathcal{N}(0, 2)$ (that is, $\\epsilon$ is drawn from a Gaussian distribution with mean 0 and variance 2). This introduces some random fluctuation in the data, to mimic real data that has an underlying regularity, but for which individual observations are corrupted by random noise."
   ]
  },
  {
   "cell_type": "code",
   "execution_count": 10,
   "metadata": {},
   "outputs": [
    {
     "data": {
      "text/plain": [
       "[<matplotlib.lines.Line2D at 0x7ff75234b4a8>]"
      ]
     },
     "execution_count": 10,
     "metadata": {},
     "output_type": "execute_result"
    },
    {
     "data": {
      "image/png": "[encoded data removed]",
      "text/plain": [
       "<matplotlib.figure.Figure at 0x7ff7543c57f0>"
      ]
     },
     "metadata": {},
     "output_type": "display_data"
    }
   ],
   "source": [
    "N = 200\n",
    "x = np.linspace(0, 10, N)\n",
    "\n",
    "## Target\n",
    "# Fortunately we have the actual function that we are trying to recreate\n",
    "# so we don't have to iterate through each value of the data, instead just use\n",
    "# the whole function.\n",
    "t = 4*x + 10 + npr.normal(0,3,x.shape[0])\n",
    "\n",
    "# Data view\n",
    "plt.plot(x,t, 'r.')"
   ]
  },
  {
   "cell_type": "code",
   "execution_count": 12,
   "metadata": {},
   "outputs": [
    {
     "name": "stdout",
     "output_type": "stream",
     "text": [
      "{'w': 1.4196206918697494, 'b': 0.2056463994647498}\n",
      "{'w': 4.1240976520533206, 'b': 9.1686282903519469}\n"
     ]
    }
   ],
   "source": [
    "# Alright so we have the data now, next step is to use backpropagation to improve the weights.\n",
    "# Remember,\n",
    "# 0. Define the model and activation function(if required)\n",
    "# 1. We need to define the loss function that tells us the difference between\n",
    "#    whaat we want and what we have now.\n",
    "# 2. We need to define a cost function which looks at all the training sets or examples in a batch (in this case looks at all the data)\n",
    "# 3. Get the derivative of the cost function over the weights & bias.\n",
    "# 4. Use backprop\n",
    "# 5. Update the weights\n",
    "# 6. Repeat backprop & update\n",
    "# 7. Doneee\n",
    "\n",
    "def sigmoid(x):\n",
    "    return 1 / (1 + np.exp(-x))\n",
    "\n",
    "# Initialize weights with random parameters\n",
    "w = npr.normal(0,1)\n",
    "b = npr.normal(0,1)\n",
    "params = {'w':w, 'b':b}\n",
    "print(params)\n",
    "# Cost with msqr loss\n",
    "def cost(params):\n",
    "    # Model\n",
    "    y = params['w']*x + params['b']\n",
    "    #Activation (ReLu)\n",
    "    #y = np.maximum(y,0)\n",
    "    #y = sigmoid(y)\n",
    "    # loss\n",
    "    loss = (1/2)*np.square(t-y)\n",
    "    return (1/N)*np.sum(loss)\n",
    "\n",
    "\n",
    "# Gradient\n",
    "grad_cost = grad(cost)\n",
    "\n",
    "# Backpropagation\n",
    "N_iter = 1000\n",
    "l_rate = 0.01\n",
    "\n",
    "for i in range(N_iter):\n",
    "    gradient_cost_result = grad_cost(params)\n",
    "    params['w'] = params['w'] - l_rate*gradient_cost_result['w']\n",
    "    params['b'] = params['b'] - l_rate*gradient_cost_result['b']\n",
    "    \n",
    "print(params)\n"
   ]
  },
  {
   "cell_type": "code",
   "execution_count": 13,
   "metadata": {},
   "outputs": [
    {
     "data": {
      "text/plain": [
       "[<matplotlib.lines.Line2D at 0x7ff752282358>]"
      ]
     },
     "execution_count": 13,
     "metadata": {},
     "output_type": "execute_result"
    },
    {
     "data": {
      "image/png": "[encoded data removed]",
      "text/plain": [
       "<matplotlib.figure.Figure at 0x7ff7543ef978>"
      ]
     },
     "metadata": {},
     "output_type": "display_data"
    }
   ],
   "source": [
    "# Plot data with its prediction\n",
    "plt.plot(x,t, 'r.')\n",
    "#Plot prediction\n",
    "y = params['w']*x+params['b']\n",
    "plt.plot(x,y,'b-')"
   ]
  },
  {
   "cell_type": "markdown",
   "metadata": {},
   "source": [
    "## Linear Regression with a Feature Mapping\n",
    "\n",
    "In this example we will fit a polynomial using linear regression with a polynomial feature mapping.\n",
    "The target function is:\n",
    "\n",
    "$$\n",
    "t = x^4 - 10 x^2 + 10 x + \\epsilon\n",
    "$$\n",
    " \n",
    "where $\\epsilon \\sim \\mathcal{N}(0, 4)$. \n",
    "\n",
    "This is an example of a _generalized linear model_, in which we perform a fixed nonlinear transformation of the inputs $\\mathbf{x} = (x_1, x_2, \\dots, x_D)$, and the model is still linear in the _parameters_. We can define a set of _feature mappings_ (also called feature functions or basis functions) $\\phi$ to implement the fixed transformations.\n",
    "\n",
    "In this case, we have $x \\in \\mathbb{R}$, and we define the feature mapping:\n",
    "$$\n",
    "\\mathbf{\\phi}(x) = \\begin{pmatrix}\\phi_1(x) \\\\ \\phi_2(x) \\\\ \\phi_3(x) \\\\ \\phi_4(x) \\end{pmatrix} = \\begin{pmatrix}1\\\\x\\\\x^2\\\\x^3\\end{pmatrix}\n",
    "$$"
   ]
  },
  {
   "cell_type": "code",
   "execution_count": 29,
   "metadata": {},
   "outputs": [
    {
     "name": "stdout",
     "output_type": "stream",
     "text": [
      "[-3.         -2.93939394 -2.87878788 -2.81818182 -2.75757576 -2.6969697\n",
      " -2.63636364 -2.57575758 -2.51515152 -2.45454545 -2.39393939 -2.33333333\n",
      " -2.27272727 -2.21212121 -2.15151515 -2.09090909 -2.03030303 -1.96969697\n",
      " -1.90909091 -1.84848485 -1.78787879 -1.72727273 -1.66666667 -1.60606061\n",
      " -1.54545455 -1.48484848 -1.42424242 -1.36363636 -1.3030303  -1.24242424\n",
      " -1.18181818 -1.12121212 -1.06060606 -1.         -0.93939394 -0.87878788\n",
      " -0.81818182 -0.75757576 -0.6969697  -0.63636364 -0.57575758 -0.51515152\n",
      " -0.45454545 -0.39393939 -0.33333333 -0.27272727 -0.21212121 -0.15151515\n",
      " -0.09090909 -0.03030303  0.03030303  0.09090909  0.15151515  0.21212121\n",
      "  0.27272727  0.33333333  0.39393939  0.45454545  0.51515152  0.57575758\n",
      "  0.63636364  0.6969697   0.75757576  0.81818182  0.87878788  0.93939394\n",
      "  1.          1.06060606  1.12121212  1.18181818  1.24242424  1.3030303\n",
      "  1.36363636  1.42424242  1.48484848  1.54545455  1.60606061  1.66666667\n",
      "  1.72727273  1.78787879  1.84848485  1.90909091  1.96969697  2.03030303\n",
      "  2.09090909  2.15151515  2.21212121  2.27272727  2.33333333  2.39393939\n",
      "  2.45454545  2.51515152  2.57575758  2.63636364  2.6969697   2.75757576\n",
      "  2.81818182  2.87878788  2.93939394  3.        ]\n"
     ]
    },
    {
     "data": {
      "image/png": "[encoded data removed]",
      "text/plain": [
       "<matplotlib.figure.Figure at 0x7ff752123c50>"
      ]
     },
     "metadata": {},
     "output_type": "display_data"
    }
   ],
   "source": [
    "# Let's generate synthetic data according to the target function\n",
    "N = 100\n",
    "x = np.linspace(-3,3,N)\n",
    "t = x**4-10*(x**2)+10*x+npr.normal(0,3,x.shape[0])\n",
    "plt.plot(x,t,'r.')\n",
    "print(x)"
   ]
  },
  {
   "cell_type": "code",
   "execution_count": 34,
   "metadata": {},
   "outputs": [
    {
     "name": "stdout",
     "output_type": "stream",
     "text": [
      "[-0.5743419  -0.57586859  0.35100804 -1.29195513 -0.4643816 ]\n"
     ]
    }
   ],
   "source": [
    "M = 4 # Degree of polynomial to fit to the data (this is a hyperparameter)\n",
    "\n",
    "# Construct a feature matrix from the linear base of inuts\n",
    "feature_matrix = np.array([[item ** i for i in range(M+1)] for item in x]) \n",
    "\n",
    "# Create the weight vector that we will need to optimize\n",
    "W = npr.randn(feature_matrix.shape[-1])\n",
    "print(W)"
   ]
  },
  {
   "cell_type": "code",
   "execution_count": 35,
   "metadata": {},
   "outputs": [
    {
     "name": "stdout",
     "output_type": "stream",
     "text": [
      "[ -1.21757496  10.19281703  -9.06549165  -0.04912137   0.89296508]\n"
     ]
    }
   ],
   "source": [
    "# Note in the cost we don't add any bias because it is already included in the weights (w0).\n",
    "\n",
    "def cost(W):\n",
    "    y = np.dot(feature_matrix, W)\n",
    "    loss = (1/2)*np.square(y-t)\n",
    "    return (1/N)*np.sum(loss)\n",
    "\n",
    "# Compute the gradient of the cost function using Autograd\n",
    "cost_grad = grad(cost)\n",
    "\n",
    "num_epochs = 10000\n",
    "learning_rate = 0.001\n",
    "\n",
    "# Manually implement gradient descent\n",
    "for i in range(num_epochs):\n",
    "    W = W - learning_rate * cost_grad(W)\n",
    "\n",
    "# Print the final learned parameters.\n",
    "print(W)"
   ]
  },
  {
   "cell_type": "code",
   "execution_count": 36,
   "metadata": {},
   "outputs": [
    {
     "data": {
      "text/plain": [
       "[<matplotlib.lines.Line2D at 0x7ff751ff2748>]"
      ]
     },
     "execution_count": 36,
     "metadata": {},
     "output_type": "execute_result"
    },
    {
     "data": {
      "image/png": "[encoded data removed]",
      "text/plain": [
       "<matplotlib.figure.Figure at 0x7ff751fc5d30>"
      ]
     },
     "metadata": {},
     "output_type": "display_data"
    }
   ],
   "source": [
    "# Plot the original training data again, together with the polynomial we fit\n",
    "plt.plot(x, t, 'r.')\n",
    "plt.plot(x, np.dot(feature_matrix, W), 'b-')"
   ]
  },
  {
   "cell_type": "markdown",
   "metadata": {},
   "source": [
    "## Neural Net Regression\n",
    "\n",
    "In this example we will implement a (nonlinear) regression model using a neural network. To implement and train a neural net using Autograd, you only have to define the forward pass of the network and the loss function you wish to use; you do _not_ need to implement the _backward pass_ of the network. When you take the gradient of the loss function using `grad`, Autograd automatically computes computes the backward pass. It essentially executes the backpropagation algorithm implicitly."
   ]
  },
  {
   "cell_type": "code",
   "execution_count": 37,
   "metadata": {},
   "outputs": [],
   "source": [
    "import matplotlib.pyplot as plt\n",
    "\n",
    "import autograd.numpy as np\n",
    "import autograd.numpy.random as npr\n",
    "from autograd import grad\n",
    "from autograd.misc import flatten #, flatten_func\n",
    "\n",
    "#Stochastic Gradient Descent\n",
    "from autograd.misc.optimizers import sgd\n",
    "\n",
    "%matplotlib inline"
   ]
  },
  {
   "cell_type": "markdown",
   "metadata": {},
   "source": [
    "### Synthetic Data"
   ]
  },
  {
   "cell_type": "code",
   "execution_count": 38,
   "metadata": {},
   "outputs": [
    {
     "data": {
      "text/plain": [
       "[<matplotlib.lines.Line2D at 0x7ff751ee10b8>]"
      ]
     },
     "execution_count": 38,
     "metadata": {},
     "output_type": "execute_result"
    },
    {
     "data": {
      "image/png": "[encoded data removed]",
      "text/plain": [
       "<matplotlib.figure.Figure at 0x7ff751f7d550>"
      ]
     },
     "metadata": {},
     "output_type": "display_data"
    }
   ],
   "source": [
    "# Generate synthetic data\n",
    "x = np.linspace(-5, 5, 1000)\n",
    "t = x ** 3 - 20 * x + 10 + npr.normal(0, 4, x.shape[0])\n",
    "plt.plot(x, t, 'r.')"
   ]
  },
  {
   "cell_type": "code",
   "execution_count": 39,
   "metadata": {},
   "outputs": [
    {
     "name": "stdout",
     "output_type": "stream",
     "text": [
      "334.873101812\n",
      "{'W1': array([[ 1.07779561, -1.18935565,  1.11185358, -0.81432319]]), 'b1': array([ 4.28681635,  3.13618976, -4.54305442, -0.77613389]), 'W2': array([[-1.46533946,  1.07124013, -3.52653674,  3.0498795 ],\n",
      "       [ 0.29519801, -0.21353595, -2.73607536, -0.35033862],\n",
      "       [-1.35670385, -1.7788858 , -3.51677202, -1.15048553],\n",
      "       [-1.34330082, -0.56610512, -3.3001691 ,  1.04550347]]), 'b2': array([ 0.0654006 ,  1.25199755, -0.17066257,  0.49873876]), 'W3': array([[-17.9464267 ],\n",
      "       [  3.1271458 ],\n",
      "       [-20.62540005],\n",
      "       [  4.92427031]]), 'b3': array([ 3.43019831])}\n",
      "8.42247639955\n"
     ]
    },
    {
     "data": {
      "text/plain": [
       "[<matplotlib.lines.Line2D at 0x7ff751e9eac8>]"
      ]
     },
     "execution_count": 39,
     "metadata": {},
     "output_type": "execute_result"
    },
    {
     "data": {
      "image/png": "[encoded data removed]",
      "text/plain": [
       "<matplotlib.figure.Figure at 0x7ff75221bb70>"
      ]
     },
     "metadata": {},
     "output_type": "display_data"
    }
   ],
   "source": [
    "inputs = x.reshape(x.shape[-1],1)\n",
    "W1 = npr.randn(1,4)\n",
    "b1 = npr.randn(4)\n",
    "W2 = npr.randn(4,4)\n",
    "b2 = npr.randn(4)\n",
    "W3 = npr.randn(4,1)\n",
    "b3 = npr.randn(1)\n",
    "\n",
    "params = { 'W1': W1, 'b1': b1, 'W2': W2, 'b2': b2, 'W3': W3, 'b3': b3 }\n",
    "\n",
    "def relu(x):\n",
    "    return np.maximum(0, x)\n",
    "\n",
    "nonlinearity = np.tanh\n",
    "#nonlinearity = relu\n",
    "\n",
    "def predict(params, inputs):\n",
    "    h1 = nonlinearity(np.dot(inputs, params['W1']) + params['b1'])\n",
    "    h2 = nonlinearity(np.dot(h1, params['W2']) + params['b2'])\n",
    "    output = np.dot(h2, params['W3']) + params['b3']\n",
    "    return output\n",
    "\n",
    "def loss(params, i):\n",
    "    output = predict(params, inputs)\n",
    "    return (1.0 / inputs.shape[0]) * np.sum(0.5 * np.square(output.reshape(output.shape[0]) - t))\n",
    "\n",
    "print(loss(params, 0))\n",
    "\n",
    "optimized_params = sgd(grad(loss), params, step_size=0.01, num_iters=5000)\n",
    "print(optimized_params)\n",
    "print(loss(optimized_params, 0))\n",
    "\n",
    "final_y = predict(optimized_params, inputs)\n",
    "plt.plot(x, t, 'r.')\n",
    "plt.plot(x, final_y, 'b-')"
   ]
  },
  {
   "cell_type": "code",
   "execution_count": null,
   "metadata": {},
   "outputs": [],
   "source": []
  }
 ],
 "metadata": {
  "kernelspec": {
   "display_name": "Python 3",
   "language": "python",
   "name": "python3"
  },
  "language_info": {
   "codemirror_mode": {
    "name": "ipython",
    "version": 3
   },
   "file_extension": ".py",
   "mimetype": "text/x-python",
   "name": "python",
   "nbconvert_exporter": "python",
   "pygments_lexer": "ipython3",
   "version": "3.6.0"
  }
 },
 "nbformat": 4,
 "nbformat_minor": 2
}
