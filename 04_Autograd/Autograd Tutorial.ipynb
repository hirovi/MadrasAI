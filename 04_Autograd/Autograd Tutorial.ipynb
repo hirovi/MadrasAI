{
 "cells": [
  {
   "cell_type": "markdown",
   "metadata": {},
   "source": [
    "# Autograd Tutorial\n",
    "\n"
   ]
  },
  {
   "cell_type": "markdown",
   "metadata": {},
   "source": [
    "## Approaches for Computing Derivatives"
   ]
  },
  {
   "cell_type": "markdown",
   "metadata": {},
   "source": [
    "* **Symbolic differentiation:** automatic manipulation of mathematical expressions to get derivatives\n",
    "    - Takes a math expression and returns a math expression: $f(x) = x^2 \\rightarrow \\frac{df(x)}{dx} = 2x$\n",
    "    - Used in Mathematica, Maple, Sympy, etc.\n",
    "* **Numeric differentiation:** Approximating derivatives by finite differences:\n",
    "$$\n",
    "\\frac{\\partial}{\\partial x_i} f(x_1, \\dots, x_N) = \\lim_{h \\to 0} \\frac{f(x_1, \\dots, x_i + h, \\dots, x_N) - f(x_1, \\dots, x_i - h, \\dots, x_N)}{2h}\n",
    "$$\n",
    "* **Automatic differentiation:** Takes code that computes a function and returns code that computes the derivative of that function.\n",
    "    - Reverse Mode AD: A method to get exact derivatives efficiently, by storing information as you go forward that you can reuse as you go backwards\n",
    "    - \"The goal isn't to obtain closed-form solutions, but to be able to wirte a program that efficiently computes the derivatives.\" - Lecture 6 Slides (Backpropagation)\n",
    "    - **Autograd**, **Torch Autograd**"
   ]
  },
  {
   "cell_type": "markdown",
   "metadata": {},
   "source": [
    "## Autograd\n",
    "\n",
    "* [Autograd](https://github.com/HIPS/autograd) is a Python package for automatic differentiation.\n",
    "* To install Autograd:\n",
    "                pip install autograd\n",
    "* There are a lot of great [examples](https://github.com/HIPS/autograd/tree/master/examples) provided with the source code\n",
    "\n",
    "### What can Autograd do?\n",
    "\n",
    "From the Autograd Github repository:\n",
    "\n",
    "* Autograd can automatically differentiate native Python and Numpy code.\n",
    "* It can handle a large subset of Python's features, including loops, conditional statements (if/else), recursion and closures\n",
    "* It can also compute higher-order derivatives\n",
    "* It uses reverse-mode differentiation (a.k.a. backpropagation) so it can efficiently take gradients of scalar-valued functions with respect to array-valued arguments.\n",
    "\n",
    "\n",
    "## Autograd vs Tensorflow, Theano, etc.\n",
    "\n",
    "Many deep learning packages implement automatic differentiation using small _domain-specific languages_ within Python:\n",
    "    - Theano\n",
    "    - Caffe\n",
    "    - Vanilla Torch (as compared to Autograd for Torch)\n",
    "    - Tensorflow\n",
    "Most of these alternatives require you to _explicitly_ construct a computation graph; Autograd constructs a computation graph _implicitly_, by tracking the sequence of operations that have been performed during the execution of a program.\n",
    "\n",
    "## GPU Support for Autograd?\n",
    "\n",
    "There are a couple projects to look into if you are interested in GPU support for Autograd:\n",
    "\n",
    "* [MinPy](https://github.com/dmlc/minpy)\n",
    "* [PyTorch](http://pytorch.org/)\n",
    "\n",
    "## Autograd Basic Usage"
   ]
  },
  {
   "cell_type": "code",
   "execution_count": 1,
   "metadata": {},
   "outputs": [],
   "source": [
    "# Import thinly-wrapped numpy\n",
    "import autograd.numpy as np\n",
    "# Basicallly the only function you need\n",
    "from autograd import grad"
   ]
  },
  {
   "cell_type": "code",
   "execution_count": 2,
   "metadata": {},
   "outputs": [
    {
     "name": "stdout",
     "output_type": "stream",
     "text": [
      "0.39322386648296376\n",
      "0.39322386636453377\n"
     ]
    }
   ],
   "source": [
    "# Define a normal function, using python & numpy\n",
    "def tanh(x):\n",
    "    y = np.exp(-x)\n",
    "    return (1.-y)/(1.+y)\n",
    "\n",
    "grad_tanh = grad(tanh)\n",
    "\n",
    "# Evaluate the gradient at x=10\n",
    "print(grad_tanh(1.0))\n",
    "\n",
    "# Compare to numeric gradient computed using finite differences\n",
    "print((tanh(1.0001) - tanh(0.9999)) / 0.0002)"
   ]
  },
  {
   "cell_type": "markdown",
   "metadata": {},
   "source": [
    "## Autograd vs Manual Gradients via Staged Computation\n",
    "\n",
    "In this example, we will see how a complicated computation can be written as a composition of simpler functions, and how this provides a scalable strategy for computing gradients using the chain rule.\n",
    "\n",
    "Say we want to write a function to compute the gradient of the *sigmoid function*:\n",
    "$$\n",
    "\\sigma(x) = \\frac{1}{1 + e^{-x}}\n",
    "$$\n",
    "We can write $\\sigma(x)$ as a composition of several elementary functions, as $\\sigma(x) = s(c(b(a(x))))$, where:\n",
    "\n",
    "$$\n",
    "a(x) = -x\n",
    "$$\n",
    "\n",
    "$$\n",
    "b(a) = e^a\n",
    "$$\n",
    "\n",
    "$$\n",
    "c(b) = 1 + b\n",
    "$$\n",
    "\n",
    "$$\n",
    "s(c) = \\frac{1}{c}\n",
    "$$\n",
    "\n",
    "Here, we have \"staged\" the computation such that it contains several intermediate variables, each of which are basic expressions for which we can easily compute the local gradients.\n",
    "\n",
    "The computation graph for this expression is shown in the figure below. \n",
    "\n",
    "![Gradient Computation Image](images/ComputationGraph.png)\n",
    "\n",
    "The input to this function is $x$, and the output is represented by node $s$. We wish compute the gradient of $s$ with respect to $x$, $\\frac{\\partial s}{\\partial x}$. In order to make use of our intermediate computations, we can use the chain rule as follows:\n",
    "$$\n",
    "\\frac{\\partial s}{\\partial x} = \\frac{\\partial s}{\\partial c} \\frac{\\partial c}{\\partial b} \\frac{\\partial b}{\\partial a} \\frac{\\partial a}{\\partial x}\n",
    "$$\n",
    "\n",
    "<!--\n",
    "Given a vector-to-scalar function, $\\mathbb{R}^D \\to \\mathbb{R}$, composed of a set of primitive functions\n",
    "$\\mathbb{R}^M \\to \\mathbb{R}^N$ (for various $M$, $N$), the gradient of the composition is given by the product of the gradients of the primitive functions, according to the chain rule. But the chain rule doesn’t prescribe the order in which to multiply the gradients. From the perspective of computational complexity, the order makes all the\n",
    "difference.\n",
    "-->"
   ]
  },
  {
   "cell_type": "code",
   "execution_count": 3,
   "metadata": {},
   "outputs": [
    {
     "name": "stdout",
     "output_type": "stream",
     "text": [
      "Manual calculation of gradient:    0.1049935854035065\n",
      "Automatic calculation of gradient: 0.1049935854035065\n"
     ]
    }
   ],
   "source": [
    "def sigmoid(x):\n",
    "    y = 1.0 / (1.0 + np.exp(-x))\n",
    "    return y\n",
    "\n",
    "def grad_sigmoid_manual(x):\n",
    "    '''\n",
    "    Define the gradient of the logistic sigmoid function\n",
    "    '''\n",
    "    # First define the elementary functions of the sigmoid function as seen above.\n",
    "    a = -x         \n",
    "    b = np.exp(a)  \n",
    "    c = 1 + b      \n",
    "    s = 1.0 / c \n",
    "    \n",
    "    # Backward pass\n",
    "    dsdc = (-1.0 / (c**2))\n",
    "    dsdb = dsdc * 1\n",
    "    dsda = dsdb * np.exp(a)\n",
    "    dsdx = dsda * (-1)\n",
    "    \n",
    "    return dsdx\n",
    "\n",
    "## Manually without Autograd\n",
    "print('Manual calculation of gradient:   ',grad_sigmoid_manual(2.0))\n",
    "\n",
    "## Automatically with Autograd\n",
    "grad_sigmoid_automatic = grad(sigmoid)\n",
    "print('Automatic calculation of gradient:',grad_sigmoid_automatic(2.0))"
   ]
  },
  {
   "cell_type": "markdown",
   "metadata": {},
   "source": [
    "I know what you're thinking... Autograd is amazing!!!"
   ]
  },
  {
   "cell_type": "markdown",
   "metadata": {},
   "source": [
    "## Gradients of Data Structures: flatten and unflatten\n",
    "                                                                     \n",
    "Autograd allows you to compute gradients for many different data structures. **Autograd provides a lot of flexibility in the types of data structures you can use to store the parameters of your model**. This flexibility is achieved through the flatten function, which converts any nested combination of lists, tuples, arrays, or dicts into a 1-dimensional Numpy array.                                              \n",
    "                                                                                                      \n",
    "The idea is that we know how to compute gradients of vectors, and we can convert many data structures into vectors (i.e. \"flatten\" the data structures)."
   ]
  },
  {
   "cell_type": "code",
   "execution_count": 4,
   "metadata": {},
   "outputs": [],
   "source": [
    "import autograd.numpy as np\n",
    "import autograd.numpy.random as npr\n",
    "from autograd import grad\n",
    "from autograd.misc import flatten"
   ]
  },
  {
   "cell_type": "code",
   "execution_count": 5,
   "metadata": {},
   "outputs": [
    {
     "name": "stdout",
     "output_type": "stream",
     "text": [
      "Flattened: [1. 1. 2. 2. 3. 3. 3.]\n",
      "Unflattened: [(array(1.), array(1.)), (array(2.), array(2.)), (array(3.), array(3.), array(3.))]\n"
     ]
    }
   ],
   "source": [
    "# You can flatten a list of tupples\n",
    "params = [(1.0, 1.0), (2.0,2.0), (3.0,3.0,3.0)]\n",
    "flat_params, unflatten_func = flatten(params)\n",
    "print('Flattened: {}'.format(flat_params))\n",
    "print('Unflattened: {}'.format(unflatten_func(flat_params)))"
   ]
  },
  {
   "cell_type": "code",
   "execution_count": 6,
   "metadata": {},
   "outputs": [
    {
     "name": "stdout",
     "output_type": "stream",
     "text": [
      "Flattened: [ 1.48606881 -1.1225244   0.91894244 -1.08755799 -0.63729127 -0.03054938\n",
      "  1.30627529 -0.87320716 -2.48854276 -0.31283451  1.69295069 -0.02968708\n",
      "  0.86386163  0.02779483  1.86888751 -0.63219856  0.57673301  0.81501298\n",
      "  0.67425771  0.50269702  0.18587228 -1.20105811 -0.4623711   0.55917239\n",
      "  0.85770898  0.35905447  1.01774563  0.37682542]\n",
      "Unflattened: [array([[ 1.48606881, -1.1225244 ,  0.91894244],\n",
      "       [-1.08755799, -0.63729127, -0.03054938],\n",
      "       [ 1.30627529, -0.87320716, -2.48854276]]), array([[-0.31283451,  1.69295069],\n",
      "       [-0.02968708,  0.86386163],\n",
      "       [ 0.02779483,  1.86888751],\n",
      "       [-0.63219856,  0.57673301],\n",
      "       [ 0.81501298,  0.67425771]]), array([[ 0.50269702,  0.18587228, -1.20105811],\n",
      "       [-0.4623711 ,  0.55917239,  0.85770898],\n",
      "       [ 0.35905447,  1.01774563,  0.37682542]])]\n"
     ]
    }
   ],
   "source": [
    "# You can flatten a list of matrices(of different sizes)\n",
    "params = [npr.randn(3,3), npr.randn(5,2), npr.randn(3,3)]\n",
    "flat_params, unflatten_func = flatten(params)\n",
    "print('Flattened: {}'.format(flat_params))\n",
    "print('Unflattened: {}'.format(unflatten_func(flat_params)))"
   ]
  },
  {
   "cell_type": "code",
   "execution_count": 7,
   "metadata": {},
   "outputs": [
    {
     "name": "stdout",
     "output_type": "stream",
     "text": [
      "Flattened: [0.2 3.  1.  2.  3.  4. ]\n",
      "Unflattened: {'weights': [array(1.), array(2.), array(3.), array(4.)], 'biases': [array(0.2), array(3.)]}\n"
     ]
    }
   ],
   "source": [
    "# A dictionary\n",
    "params = {'weights':[1.,2.,3.,4.], 'biases':[.2,3.]}\n",
    "flat_params, unflatten_func = flatten(params)\n",
    "print('Flattened: {}'.format(flat_params))\n",
    "print('Unflattened: {}'.format(unflatten_func(flat_params)))"
   ]
  },
  {
   "cell_type": "code",
   "execution_count": 8,
   "metadata": {},
   "outputs": [
    {
     "name": "stdout",
     "output_type": "stream",
     "text": [
      "Flattened: [1. 2. 1. 2. 3. 4. 6. 7. 5. 6. 7. 8.]\n",
      "Unflattened: {'layer1': {'weights': [array(1.), array(2.), array(3.), array(4.)], 'biases': [array(1.), array(2.)]}, 'layer2': {'weights': [array(5.), array(6.), array(7.), array(8.)], 'biases': [array(6.), array(7.)]}}\n"
     ]
    }
   ],
   "source": [
    "# Or even a dictionary of dictionaries #inception\n",
    "params = { 'layer1': { 'weights': [1.0,2.0,3.0,4.0], 'biases': [1.0,2.0]}, 'layer2': { 'weights': [5.0,6.0,7.0,8.0], 'biases': [6.0,7.0]} }\n",
    "flat_params, unflatten_func = flatten(params)\n",
    "print('Flattened: {}'.format(flat_params))\n",
    "print('Unflattened: {}'.format(unflatten_func(flat_params)))"
   ]
  },
  {
   "cell_type": "markdown",
   "metadata": {},
   "source": [
    "## Examples"
   ]
  },
  {
   "cell_type": "markdown",
   "metadata": {},
   "source": [
    "The next three sections of the notebook show examples of using Autograd in the context of three problems:\n",
    "\n",
    "1. **1-D linear regression**, where we try to fit a model to a function $y = wx + b$\n",
    "2. **Linear regression using a polynomial feature map**, to fit a function of the form $y = w_0 + w_1 x + w_2 x^2 + \\dots + w_M x^M$\n",
    "3. **Nonlinear regression using a neural network**\n"
   ]
  },
  {
   "cell_type": "markdown",
   "metadata": {},
   "source": [
    "## Linear Regression\n",
    "\n",
    "### Review\n",
    "\n",
    "We are given a set of data points $\\{ (x_1, t_1), (x_2, t_2), \\dots, (x_N, t_N) \\}$, where each point $(x_i, t_i)$ consists of an *input value* $x_i$ and a *target value* $t_i$. \n",
    "\n",
    "The **model** we use is:\n",
    "$$\n",
    "y_i = wx_i + b\n",
    "$$\n",
    "\n",
    "We want each predicted value $y_i$ to be close to the ground truth value $t_i$. In linear regression, we use squared error to quantify the disagreement between $y_i$ and $t_i$. The **loss function** for a single example is:\n",
    "$$\n",
    "\\mathcal{L}(y_i,t_i) = \\frac{1}{2} (y_i - t_i)^2\n",
    "$$\n",
    "\n",
    "The **cost function** is the loss averaged over all the training examples:\n",
    "$$\n",
    "\\mathcal{E}(w,b) = \\frac{1}{N} \\sum_{i=1}^N \\mathcal{L}(y_i, t_i) = \\frac{1}{N} \\sum_{i=1}^N \\frac{1}{2} \\left(wx_i + b - t_i \\right)^2\n",
    "$$"
   ]
  },
  {
   "cell_type": "code",
   "execution_count": 9,
   "metadata": {},
   "outputs": [],
   "source": [
    "import autograd.numpy as np # Import wrapped NumPy from Autograd\n",
    "import autograd.numpy.random as npr # For convenient access to numpy.random\n",
    "from autograd import grad # To compute gradients\n",
    "\n",
    "import matplotlib.pyplot as plt # For plotting\n",
    "\n",
    "%matplotlib inline"
   ]
  },
  {
   "cell_type": "markdown",
   "metadata": {},
   "source": [
    "## Generate Synthetic Data\n",
    "\n",
    "We generate a synthetic dataset $\\{ (x_i, t_i) \\}$ by first taking the $x_i$ to be linearly spaced in the range $[0, 10]$ and generating the corresponding value of $t_i$ using the following equation (where $w = 4$ and $b=10$):\n",
    "$$\n",
    "t_i = 4 x_i + 10 + \\epsilon\n",
    "$$\n",
    "\n",
    "Here, $\\epsilon \\sim \\mathcal{N}(0, 2)$ (that is, $\\epsilon$ is drawn from a Gaussian distribution with mean 0 and variance 2). This introduces some random fluctuation in the data, to mimic real data that has an underlying regularity, but for which individual observations are corrupted by random noise."
   ]
  },
  {
   "cell_type": "code",
   "execution_count": 10,
   "metadata": {},
   "outputs": [
    {
     "data": {
      "text/plain": [
       "[<matplotlib.lines.Line2D at 0x7f76b25cfda0>]"
      ]
     },
     "execution_count": 10,
     "metadata": {},
     "output_type": "execute_result"
    },
    {
     "data": {
      "image/png": "[encoded data removed]",
      "text/plain": [
       "<Figure size 432x288 with 1 Axes>"
      ]
     },
     "metadata": {},
     "output_type": "display_data"
    }
   ],
   "source": [
    "N = 200\n",
    "x = np.linspace(0, 10, N)\n",
    "\n",
    "## Target\n",
    "# Fortunately we have the actual function that we are trying to recreate\n",
    "# so we don't have to iterate through each value of the data, instead just use\n",
    "# the whole function.\n",
    "t = 4*x + 10 + npr.normal(0,3,x.shape[0])\n",
    "\n",
    "# Data view\n",
    "plt.plot(x,t, 'r.')"
   ]
  },
  {
   "cell_type": "code",
   "execution_count": 11,
   "metadata": {},
   "outputs": [
    {
     "name": "stdout",
     "output_type": "stream",
     "text": [
      "{'w': -2.5999993860792823, 'b': 0.3562170885549883}\n",
      "{'w': 4.10064055529337, 'b': 9.348515857838903}\n"
     ]
    }
   ],
   "source": [
    "# Alright so we have the data now, next step is to use backpropagation to improve the weights.\n",
    "# Remember,\n",
    "# 0. Define the model and activation function(if required)\n",
    "# 1. We need to define the loss function that tells us the difference between\n",
    "#    whaat we want and what we have now.\n",
    "# 2. We need to define a cost function which looks at all the training sets or examples in a batch (in this case looks at all the data)\n",
    "# 3. Get the derivative of the cost function over the weights & bias.\n",
    "# 4. Use backprop\n",
    "# 5. Update the weights\n",
    "# 6. Repeat backprop & update\n",
    "# 7. Doneee\n",
    "\n",
    "def sigmoid(x):\n",
    "    return 1 / (1 + np.exp(-x))\n",
    "\n",
    "# Initialize weights with random parameters\n",
    "w = npr.normal(0,1)\n",
    "b = npr.normal(0,1)\n",
    "params = {'w':w, 'b':b}\n",
    "print(params)\n",
    "# Cost with msqr loss\n",
    "def cost(params):\n",
    "    # Model\n",
    "    y = params['w']*x + params['b']\n",
    "    #Activation (ReLu)\n",
    "    #y = np.maximum(y,0)\n",
    "    #y = sigmoid(y)\n",
    "    # loss\n",
    "    loss = (1/2)*np.square(t-y)\n",
    "    return (1/N)*np.sum(loss)\n",
    "\n",
    "\n",
    "# Gradient\n",
    "grad_cost = grad(cost)\n",
    "\n",
    "# Backpropagation\n",
    "N_iter = 1000\n",
    "l_rate = 0.01\n",
    "\n",
    "for i in range(N_iter):\n",
    "    gradient_cost_result = grad_cost(params)\n",
    "    params['w'] = params['w'] - l_rate*gradient_cost_result['w']\n",
    "    params['b'] = params['b'] - l_rate*gradient_cost_result['b']\n",
    "    \n",
    "print(params)\n"
   ]
  },
  {
   "cell_type": "code",
   "execution_count": 12,
   "metadata": {},
   "outputs": [
    {
     "data": {
      "text/plain": [
       "[<matplotlib.lines.Line2D at 0x7f76b251dc50>]"
      ]
     },
     "execution_count": 12,
     "metadata": {},
     "output_type": "execute_result"
    },
    {
     "data": {
      "image/png": "[encoded data removed]",
      "text/plain": [
       "<Figure size 432x288 with 1 Axes>"
      ]
     },
     "metadata": {},
     "output_type": "display_data"
    }
   ],
   "source": [
    "# Plot data with its prediction\n",
    "plt.plot(x,t, 'r.')\n",
    "#Plot prediction\n",
    "y = params['w']*x+params['b']\n",
    "plt.plot(x,y,'b-')"
   ]
  },
  {
   "cell_type": "markdown",
   "metadata": {},
   "source": [
    "## Linear Regression with a Feature Mapping\n",
    "\n",
    "In this example we will fit a polynomial using linear regression with a polynomial feature mapping.\n",
    "The target function is:\n",
    "\n",
    "$$\n",
    "t = x^4 - 10 x^2 + 10 x + \\epsilon\n",
    "$$\n",
    " \n",
    "where $\\epsilon \\sim \\mathcal{N}(0, 4)$. \n",
    "\n",
    "This is an example of a _generalized linear model_, in which we perform a fixed nonlinear transformation of the inputs $\\mathbf{x} = (x_1, x_2, \\dots, x_D)$, and the model is still linear in the _parameters_. We can define a set of _feature mappings_ (also called feature functions or basis functions) $\\phi$ to implement the fixed transformations.\n",
    "\n",
    "In this case, we have $x \\in \\mathbb{R}$, and we define the feature mapping:\n",
    "$$\n",
    "\\mathbf{\\phi}(x) = \\begin{pmatrix}\\phi_1(x) \\\\ \\phi_2(x) \\\\ \\phi_3(x) \\\\ \\phi_4(x) \\end{pmatrix} = \\begin{pmatrix}1\\\\x\\\\x^2\\\\x^3\\end{pmatrix}\n",
    "$$"
   ]
  },
  {
   "cell_type": "code",
   "execution_count": 25,
   "metadata": {},
   "outputs": [
    {
     "data": {
      "text/plain": [
       "[<matplotlib.lines.Line2D at 0x7f76b2265f98>]"
      ]
     },
     "execution_count": 25,
     "metadata": {},
     "output_type": "execute_result"
    },
    {
     "data": {
      "image/png": "[encoded data removed]",
      "text/plain": [
       "<Figure size 432x288 with 1 Axes>"
      ]
     },
     "metadata": {},
     "output_type": "display_data"
    }
   ],
   "source": [
    "# Let's generate synthetic data according to the target function\n",
    "N = 100\n",
    "x = np.linspace(-3,3,N)\n",
    "t = x**4-10*(x**2)+10*x+npr.normal(0,3,x.shape[0])\n",
    "plt.plot(x,t,'r.')"
   ]
  },
  {
   "cell_type": "code",
   "execution_count": 26,
   "metadata": {},
   "outputs": [
    {
     "name": "stdout",
     "output_type": "stream",
     "text": [
      "(100, 5)\n",
      "[ 1.69723645  1.52859442 -0.97554941 -0.53618895  0.08058528]\n"
     ]
    }
   ],
   "source": [
    "M = 4 # Degree of polynomial to fit to the data (this is a hyperparameter)\n",
    "feature_matrix = np.array([[item ** i for i in range(M+1)] for item in x]) # Construct a feature matrix \n",
    "print(feature_matrix.shape)\n",
    "W = npr.randn(feature_matrix.shape[-1])\n",
    "print(W)"
   ]
  },
  {
   "cell_type": "code",
   "execution_count": 27,
   "metadata": {},
   "outputs": [
    {
     "name": "stdout",
     "output_type": "stream",
     "text": [
      "[-0.81127647 10.07721634 -9.65724163  0.04081503  0.96246005]\n"
     ]
    }
   ],
   "source": [
    "# Note in the cost we don't add any bias because it is already included.\n",
    "\n",
    "def cost(W):\n",
    "    y = np.dot(feature_matrix, W)\n",
    "    loss = (1/2)*np.square(y-t)\n",
    "    return (1/N)*np.sum(loss)\n",
    "\n",
    "# Compute the gradient of the cost function using Autograd\n",
    "cost_grad = grad(cost)\n",
    "\n",
    "num_epochs = 10000\n",
    "learning_rate = 0.001\n",
    "\n",
    "# Manually implement gradient descent\n",
    "for i in range(num_epochs):\n",
    "    W = W - learning_rate * cost_grad(W)\n",
    "\n",
    "# Print the final learned parameters.\n",
    "print(W)"
   ]
  },
  {
   "cell_type": "code",
   "execution_count": 28,
   "metadata": {},
   "outputs": [
    {
     "data": {
      "text/plain": [
       "[<matplotlib.lines.Line2D at 0x7f76b229a4e0>]"
      ]
     },
     "execution_count": 28,
     "metadata": {},
     "output_type": "execute_result"
    },
    {
     "data": {
      "image/png": "[encoded data removed]",
      "text/plain": [
       "<Figure size 432x288 with 1 Axes>"
      ]
     },
     "metadata": {},
     "output_type": "display_data"
    }
   ],
   "source": [
    "# Plot the original training data again, together with the polynomial we fit\n",
    "plt.plot(x, t, 'r.')\n",
    "plt.plot(x, np.dot(feature_matrix, W), 'b-')"
   ]
  },
  {
   "cell_type": "markdown",
   "metadata": {},
   "source": [
    "## Neural Net Regression\n",
    "\n",
    "In this example we will implement a (nonlinear) regression model using a neural network. To implement and train a neural net using Autograd, you only have to define the forward pass of the network and the loss function you wish to use; you do _not_ need to implement the _backward pass_ of the network. When you take the gradient of the loss function using `grad`, Autograd automatically computes computes the backward pass. It essentially executes the backpropagation algorithm implicitly."
   ]
  },
  {
   "cell_type": "code",
   "execution_count": 29,
   "metadata": {},
   "outputs": [],
   "source": [
    "import matplotlib.pyplot as plt\n",
    "\n",
    "import autograd.numpy as np\n",
    "import autograd.numpy.random as npr\n",
    "from autograd import grad\n",
    "from autograd.misc import flatten #, flatten_func\n",
    "\n",
    "#Stochastic Gradient Descent\n",
    "from autograd.misc.optimizers import sgd\n",
    "\n",
    "%matplotlib inline"
   ]
  },
  {
   "cell_type": "markdown",
   "metadata": {},
   "source": [
    "### Synthetic Data"
   ]
  },
  {
   "cell_type": "code",
   "execution_count": 34,
   "metadata": {},
   "outputs": [
    {
     "data": {
      "text/plain": [
       "[<matplotlib.lines.Line2D at 0x7f76b1430780>]"
      ]
     },
     "execution_count": 34,
     "metadata": {},
     "output_type": "execute_result"
    },
    {
     "data": {
      "image/png": "[encoded data removed]",
      "text/plain": [
       "<Figure size 432x288 with 1 Axes>"
      ]
     },
     "metadata": {},
     "output_type": "display_data"
    }
   ],
   "source": [
    "# Generate synthetic data\n",
    "x = np.linspace(-5, 5, 1000)\n",
    "t = x ** 3 - 20 * x + 10 + npr.normal(0, 4, x.shape[0])\n",
    "plt.plot(x, t, 'r.')"
   ]
  },
  {
   "cell_type": "code",
   "execution_count": 35,
   "metadata": {},
   "outputs": [
    {
     "name": "stdout",
     "output_type": "stream",
     "text": [
      "324.83042672931344\n",
      "{'W1': array([[-1.01857533, -1.16632729, -0.59655155, -1.13285016]]), 'b1': array([-5.54850323, -2.68750341, -0.75582542,  1.01956556]), 'W2': array([[ 4.76913032, -2.2239177 ,  0.15254393,  0.24235163],\n",
      "       [ 2.91690017, -0.7306431 ,  0.37611092,  1.03506611],\n",
      "       [ 2.00889739, -2.21013056,  1.00460085,  2.3520203 ],\n",
      "       [ 0.18831534, -1.88225943,  3.51066921,  3.14250912]]), 'b2': array([-0.84947933, -0.90161874,  0.61174895, -0.07720528]), 'W3': array([[-25.09729591],\n",
      "       [-10.01027502],\n",
      "       [  6.62243057],\n",
      "       [ 11.01292076]]), 'b3': array([-8.41014405])}\n",
      "55.13494366783876\n"
     ]
    },
    {
     "data": {
      "text/plain": [
       "[<matplotlib.lines.Line2D at 0x7f76b1563898>]"
      ]
     },
     "execution_count": 35,
     "metadata": {},
     "output_type": "execute_result"
    },
    {
     "data": {
      "image/png": "[encoded data removed]",
      "text/plain": [
       "<Figure size 432x288 with 1 Axes>"
      ]
     },
     "metadata": {},
     "output_type": "display_data"
    }
   ],
   "source": [
    "inputs = x.reshape(x.shape[-1],1)\n",
    "W1 = npr.randn(1,4)\n",
    "b1 = npr.randn(4)\n",
    "W2 = npr.randn(4,4)\n",
    "b2 = npr.randn(4)\n",
    "W3 = npr.randn(4,1)\n",
    "b3 = npr.randn(1)\n",
    "\n",
    "params = { 'W1': W1, 'b1': b1, 'W2': W2, 'b2': b2, 'W3': W3, 'b3': b3 }\n",
    "\n",
    "def relu(x):\n",
    "    return np.maximum(0, x)\n",
    "\n",
    "nonlinearity = np.tanh\n",
    "#nonlinearity = relu\n",
    "\n",
    "def predict(params, inputs):\n",
    "    h1 = nonlinearity(np.dot(inputs, params['W1']) + params['b1'])\n",
    "    h2 = nonlinearity(np.dot(h1, params['W2']) + params['b2'])\n",
    "    output = np.dot(h2, params['W3']) + params['b3']\n",
    "    return output\n",
    "\n",
    "def loss(params, i):\n",
    "    output = predict(params, inputs)\n",
    "    return (1.0 / inputs.shape[0]) * np.sum(0.5 * np.square(output.reshape(output.shape[0]) - t))\n",
    "\n",
    "print(loss(params, 0))\n",
    "\n",
    "optimized_params = sgd(grad(loss), params, step_size=0.01, num_iters=5000)\n",
    "print(optimized_params)\n",
    "print(loss(optimized_params, 0))\n",
    "\n",
    "final_y = predict(optimized_params, inputs)\n",
    "plt.plot(x, t, 'r.')\n",
    "plt.plot(x, final_y, 'b-')"
   ]
  },
  {
   "cell_type": "code",
   "execution_count": null,
   "metadata": {},
   "outputs": [],
   "source": []
  }
 ],
 "metadata": {
  "kernelspec": {
   "display_name": "Python 3",
   "language": "python",
   "name": "python3"
  },
  "language_info": {
   "codemirror_mode": {
    "name": "ipython",
    "version": 3
   },
   "file_extension": ".py",
   "mimetype": "text/x-python",
   "name": "python",
   "nbconvert_exporter": "python",
   "pygments_lexer": "ipython3",
   "version": "3.6.4"
  }
 },
 "nbformat": 4,
 "nbformat_minor": 2
}
