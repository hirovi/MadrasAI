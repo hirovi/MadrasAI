{
 "cells": [
  {
   "cell_type": "code",
   "execution_count": 1,
   "metadata": {},
   "outputs": [],
   "source": [
    "import torch \n",
    "import torch.nn as nn\n",
    "import torchvision\n",
    "import torchvision.transforms as transforms\n",
    "\n",
    "import os\n",
    "cwd = os.getcwd()\n",
    "\n",
    "import numpy as np\n",
    "\n",
    "import matplotlib.pyplot as plt"
   ]
  },
  {
   "cell_type": "code",
   "execution_count": 2,
   "metadata": {},
   "outputs": [],
   "source": [
    "# Device configuration\n",
    "device = torch.device('cuda:0' if torch.cuda.is_available() else 'cpu')\n",
    "\n",
    "# Hyper parameters\n",
    "num_epochs = 5\n",
    "num_classes = 10 \n",
    "batch_size = 100\n",
    "learning_rate = 0.001\n",
    "\n",
    "# MNIST dataset\n",
    "train_dataset = torchvision.datasets.MNIST(root=cwd + '/data/',\n",
    "                                           train=True, \n",
    "                                           transform=transforms.ToTensor(),\n",
    "                                           download=True)\n",
    "\n",
    "test_dataset = torchvision.datasets.MNIST(root=cwd + '/data/',\n",
    "                                          train=False, \n",
    "                                          transform=transforms.ToTensor())\n",
    "\n",
    "# Data loader\n",
    "train_loader = torch.utils.data.DataLoader(dataset=train_dataset,\n",
    "                                           batch_size=batch_size, \n",
    "                                           shuffle=True)\n",
    "\n",
    "test_loader = torch.utils.data.DataLoader(dataset=test_dataset,\n",
    "                                          batch_size=batch_size, \n",
    "                                          shuffle=False)\n",
    "\n"
   ]
  },
  {
   "cell_type": "code",
   "execution_count": 3,
   "metadata": {},
   "outputs": [
    {
     "name": "stdout",
     "output_type": "stream",
     "text": [
      "Input image\n",
      "torch.Size([1, 28, 28])\n"
     ]
    },
    {
     "data": {
      "image/png": "[encoded data removed]",
      "text/plain": [
       "<Figure size 432x288 with 1 Axes>"
      ]
     },
     "metadata": {},
     "output_type": "display_data"
    }
   ],
   "source": [
    "# Visualize example input image\n",
    "train_iter = iter(train_loader)\n",
    "images, labels = train_iter.next()\n",
    "\n",
    "img = images[0]\n",
    "fig, ax = plt.subplots()\n",
    "ax.imshow(img.data.numpy().reshape((28,28)), cmap = plt.cm.gray)\n",
    "print('Input image')\n",
    "print(img.shape) # 1 channel, WxH = 28x28\n",
    "plt.show()"
   ]
  },
  {
   "cell_type": "code",
   "execution_count": 27,
   "metadata": {},
   "outputs": [],
   "source": [
    "# Convolutional neural network (2 convolutional layers)\n",
    "class ConvNet(nn.Module):\n",
    "    def __init__(self, num_classes=10):\n",
    "        super(ConvNet, self).__init__()\n",
    "        \n",
    "        '''\n",
    "        Convolution layer 1\n",
    "        Input: 1x28x28\n",
    "        Output: 16x14x14\n",
    "        '''\n",
    "        self.layer1 = nn.Sequential(\n",
    "            nn.Conv2d(1, 16, kernel_size=5, stride=1, padding=2),\n",
    "            #nn.BatchNorm2d(16),\n",
    "            nn.ReLU(),\n",
    "            nn.MaxPool2d(kernel_size=2, stride=2))\n",
    "        \n",
    "        '''\n",
    "        Convolution layer 2\n",
    "        Input: 16x14x14\n",
    "        Output: 32x7x7\n",
    "        '''\n",
    "        self.layer2 = nn.Sequential(\n",
    "            nn.Conv2d(16, 32, kernel_size=5, stride=1, padding=2),\n",
    "            #nn.BatchNorm2d(32),\n",
    "            nn.ReLU(),\n",
    "            nn.MaxPool2d(kernel_size=2, stride=2))\n",
    "        \n",
    "        # Fully Connected\n",
    "        self.fc = nn.Linear(32*7*7, num_classes)\n",
    "        \n",
    "        self.softmax = nn.Softmax()\n",
    "        \n",
    "    def Flatten(self, x):\n",
    "        x = x.view(x.size(0), -1)\n",
    "        return x\n",
    "        \n",
    "    def forward(self, x):\n",
    "        out = self.layer1(x)\n",
    "        out = self.layer2(out)\n",
    "        out = self.Flatten(out)\n",
    "        out = self.fc(out)\n",
    "        out = self.softmax(out)\n",
    "        return out"
   ]
  },
  {
   "cell_type": "code",
   "execution_count": 28,
   "metadata": {},
   "outputs": [],
   "source": [
    "# Instantiate net\n",
    "model = ConvNet(num_classes).to(device)"
   ]
  },
  {
   "cell_type": "code",
   "execution_count": 29,
   "metadata": {},
   "outputs": [
    {
     "name": "stderr",
     "output_type": "stream",
     "text": [
      "/home/hirovi/miniconda3/envs/deeplearning/lib/python3.6/site-packages/ipykernel_launcher.py:42: UserWarning: Implicit dimension choice for softmax has been deprecated. Change the call to include dim=X as an argument.\n"
     ]
    },
    {
     "name": "stdout",
     "output_type": "stream",
     "text": [
      "Epoch [1/5], Step [100/600], Loss: 1.7623\n",
      "Epoch [1/5], Step [200/600], Loss: 1.7145\n",
      "Epoch [1/5], Step [300/600], Loss: 1.5627\n",
      "Epoch [1/5], Step [400/600], Loss: 1.6158\n",
      "Epoch [1/5], Step [500/600], Loss: 1.5971\n",
      "Epoch [1/5], Step [600/600], Loss: 1.5692\n",
      "Epoch [2/5], Step [100/600], Loss: 1.5910\n",
      "Epoch [2/5], Step [200/600], Loss: 1.5674\n",
      "Epoch [2/5], Step [300/600], Loss: 1.5432\n",
      "Epoch [2/5], Step [400/600], Loss: 1.5671\n",
      "Epoch [2/5], Step [500/600], Loss: 1.5707\n",
      "Epoch [2/5], Step [600/600], Loss: 1.5698\n",
      "Epoch [3/5], Step [100/600], Loss: 1.6161\n",
      "Epoch [3/5], Step [200/600], Loss: 1.5202\n",
      "Epoch [3/5], Step [300/600], Loss: 1.4925\n",
      "Epoch [3/5], Step [400/600], Loss: 1.5364\n",
      "Epoch [3/5], Step [500/600], Loss: 1.5505\n",
      "Epoch [3/5], Step [600/600], Loss: 1.5085\n",
      "Epoch [4/5], Step [100/600], Loss: 1.5025\n",
      "Epoch [4/5], Step [200/600], Loss: 1.4629\n",
      "Epoch [4/5], Step [300/600], Loss: 1.4993\n",
      "Epoch [4/5], Step [400/600], Loss: 1.4796\n",
      "Epoch [4/5], Step [500/600], Loss: 1.4885\n",
      "Epoch [4/5], Step [600/600], Loss: 1.4917\n",
      "Epoch [5/5], Step [100/600], Loss: 1.4760\n",
      "Epoch [5/5], Step [200/600], Loss: 1.4755\n",
      "Epoch [5/5], Step [300/600], Loss: 1.4696\n",
      "Epoch [5/5], Step [400/600], Loss: 1.4614\n",
      "Epoch [5/5], Step [500/600], Loss: 1.4704\n",
      "Epoch [5/5], Step [600/600], Loss: 1.4927\n"
     ]
    }
   ],
   "source": [
    "## Trainining Pipeline\n",
    "\n",
    "# Loss and Optimizer\n",
    "criterion = nn.CrossEntropyLoss()\n",
    "optimizer = torch.optim.Adam(model.parameters(), lr=learning_rate)\n",
    "\n",
    "# Train the model\n",
    "total_step = len(train_loader)\n",
    "for epoch in range(num_epochs):\n",
    "    for i, (images,labels) in enumerate(train_loader):\n",
    "        images = images.to(device)\n",
    "        labels = labels.to(device)\n",
    "        \n",
    "        #Forward Pass\n",
    "        optimizer.zero_grad() # Clear stored gradients\n",
    "        outputs = model(images) # Forward pass\n",
    "        loss = criterion(outputs, labels) # Calculate error\n",
    "        \n",
    "        #Backward and optimize\n",
    "        loss.backward() # Compute gradients\n",
    "        optimizer.step() # Update weights\n",
    "        \n",
    "        if (i+1) % 100 == 0:\n",
    "            print ('Epoch [{}/{}], Step [{}/{}], Loss: {:.4f}'.format(epoch+1, num_epochs, i+1, total_step, loss.item()))"
   ]
  },
  {
   "cell_type": "code",
   "execution_count": 14,
   "metadata": {},
   "outputs": [
    {
     "name": "stdout",
     "output_type": "stream",
     "text": [
      "tensor(0.0174, device='cuda:0', grad_fn=<NllLossBackward>)\n"
     ]
    }
   ],
   "source": [
    "print(loss)"
   ]
  },
  {
   "cell_type": "code",
   "execution_count": 13,
   "metadata": {},
   "outputs": [],
   "source": [
    "modelFilename = 'mnist-cnn.model'\n",
    "\n",
    "# Save the Trained Model\n",
    "if not os.path.exists(modelFilename):\n",
    "    torch.save(model.state_dict(), modelFilename)"
   ]
  },
  {
   "cell_type": "code",
   "execution_count": null,
   "metadata": {},
   "outputs": [],
   "source": []
  }
 ],
 "metadata": {
  "kernelspec": {
   "display_name": "Python 3",
   "language": "python",
   "name": "python3"
  },
  "language_info": {
   "codemirror_mode": {
    "name": "ipython",
    "version": 3
   },
   "file_extension": ".py",
   "mimetype": "text/x-python",
   "name": "python",
   "nbconvert_exporter": "python",
   "pygments_lexer": "ipython3",
   "version": "3.6.4"
  }
 },
 "nbformat": 4,
 "nbformat_minor": 2
}
